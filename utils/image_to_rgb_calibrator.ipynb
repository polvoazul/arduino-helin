{
 "cells": [
  {
   "cell_type": "code",
   "execution_count": null,
   "id": "7b1c166d-fee0-4deb-8925-cffbe18ce53e",
   "metadata": {},
   "outputs": [],
   "source": [
    "from PIL import Image as PILImage, ImageDraw\n",
    "import numpy as np\n",
    "import pandas as pd\n",
    "import IPython\n",
    "from ipywidgets import Image as WImage\n",
    "from ipywidgets import Box, Label, Layout, VBox\n",
    "from collections import Counter\n"
   ]
  },
  {
   "cell_type": "code",
   "execution_count": null,
   "id": "1255a3c6-65e0-42c7-a3b4-bb408398dc04",
   "metadata": {},
   "outputs": [],
   "source": [
    "INPUT = '/Users/ifred/Downloads/8x8 characters.webp'\n",
    "OUTPUT_DIR = '/tmp'\n",
    "\n",
    "in_image = PILImage.open(INPUT)\n",
    "in_image"
   ]
  },
  {
   "cell_type": "code",
   "execution_count": null,
   "id": "776f4130-4ed7-439b-ae1b-0ab728d956de",
   "metadata": {},
   "outputs": [],
   "source": [
    "def mul(a, b):\n",
    "    return tuple(int(x*y) for x, y in zip(a, b))"
   ]
  },
  {
   "cell_type": "code",
   "execution_count": null,
   "id": "c6b39c53-485e-4534-9d8e-a94fddb7fc34",
   "metadata": {},
   "outputs": [],
   "source": [
    "def first_non_0_pixel(blank_pixels, axis=0):\n",
    "    for col in range(blank_pixels.shape[axis]):\n",
    "        if np.take(blank_pixels, col, axis=axis,).all() == False:\n",
    "            return col"
   ]
  },
  {
   "cell_type": "code",
   "execution_count": null,
   "id": "18a86334-315c-4aea-a398-49a37b75a644",
   "metadata": {},
   "outputs": [],
   "source": [
    "def find_scale(bt):\n",
    "    candidates = []\n",
    "    s = 1\n",
    "    bt = np.diff(bt, axis=0).any(axis=2)\n",
    "    for c in range(bt.shape[1]):\n",
    "        for r in range(bt.shape[0]):\n",
    "            if bt[r][c]:\n",
    "                candidates.append(s)\n",
    "                s = 1\n",
    "            else:\n",
    "                s += 1\n",
    "    candidates.append(s)\n",
    "    candidates = pd.Series(candidates)\n",
    "    a = candidates[candidates < candidates.mean() * 2].value_counts()\n",
    "    a.sort_index().plot(kind='bar', title='continuous pixels')\n",
    "    import fractions\n",
    "    return fractions.Fraction(1, a.index[0])"
   ]
  },
  {
   "cell_type": "code",
   "execution_count": null,
   "id": "28ce8bb5-1d1c-4974-a869-d3a67b855ed3",
   "metadata": {},
   "outputs": [],
   "source": [
    "from time import sleep "
   ]
  },
  {
   "cell_type": "code",
   "execution_count": null,
   "id": "78dd27b2-bf79-484a-b629-924c73c1da7d",
   "metadata": {},
   "outputs": [],
   "source": [
    "def pil2wid(img, width=300, height=300):\n",
    "    import io\n",
    "    img_byte_arr = io.BytesIO()\n",
    "    img.resize((width, height), resample=PILImage.Resampling.NEAREST).save(img_byte_arr, format='PNG')\n",
    "    img_byte_arr = img_byte_arr.getvalue()\n",
    "    return WImage(value=img_byte_arr, format='png', width=width, height=height)"
   ]
  },
  {
   "cell_type": "code",
   "execution_count": null,
   "id": "7ee14a41-3280-4d56-a0ea-bd87ffbbd706",
   "metadata": {},
   "outputs": [],
   "source": [
    "### ARGS:\n",
    "scale = margin_x = margin_y = None\n",
    "n_images = 10, 10\n",
    "interval = 1"
   ]
  },
  {
   "cell_type": "code",
   "execution_count": null,
   "id": "2160ef05-a782-4777-a96b-f5718a20675c",
   "metadata": {
    "tags": []
   },
   "outputs": [],
   "source": [
    "# def get_sub(input, n_images, scale, separation, margin, ingore=None):\n",
    "#####\n",
    "\n",
    "\n",
    "\n",
    "\n",
    "\n",
    "#######\n",
    "\n",
    "img = in_image\n",
    "\n",
    "bt = np.asarray(img)\n",
    "\n",
    "if not scale:\n",
    "    scale = find_scale(bt)\n",
    "    scale = (scale, scale)\n",
    "    \n",
    "new_size = mul(img.size, scale)\n",
    "assert new_size[0] == new_size[1]\n",
    "img = img.resize(new_size, PILImage.Resampling.NEAREST)\n",
    "\n",
    "display(img)\n"
   ]
  },
  {
   "cell_type": "code",
   "execution_count": null,
   "id": "3892759f-6c73-4f52-bc7d-79c935cacda3",
   "metadata": {},
   "outputs": [],
   "source": [
    "scale = margin_x = margin_y = None\n",
    "n_images = 10, 10\n",
    "interval = 4"
   ]
  },
  {
   "cell_type": "code",
   "execution_count": null,
   "id": "99ba0add-9449-4327-8d9c-f9903a5dc94c",
   "metadata": {},
   "outputs": [],
   "source": [
    "blank = lambda x: (x == [0,0,0]).all()\n",
    "blank_pixels = np.apply_along_axis(blank, axis=2, arr=np.asarray(img))\n",
    "\n",
    "if not margin_x:\n",
    "    margin_x = first_non_0_pixel(blank_pixels, 0)\n",
    "if not margin_y:\n",
    "    margin_y = first_non_0_pixel(blank_pixels, 1)    \n",
    "    \n",
    "print(f'{margin_x=}, {margin_y=}') \n",
    "\n",
    "# display(IPython.display.HTML('<flexthis></flexthis><style> div.jp-Cell-outputArea:has(flexthis) {display:flex;  flex-wrap: wrap;} </style>'))\n",
    "\n",
    "\n",
    "\n",
    "CANVAS_SCALE = 5\n",
    "img_canvas = img.copy().resize((img.size[0]*CANVAS_SCALE, img.size[1]*CANVAS_SCALE), resample=PILImage.Resampling.NEAREST)\n",
    "img_draw = ImageDraw.Draw(img_canvas)\n",
    "\n",
    "images = []\n",
    "for y_ in range(n_images[1]):\n",
    "    for x_ in range(n_images[0]):\n",
    "        x = x_*(8 + interval) + margin_x\n",
    "        y = y_*(8 + interval) + margin_y\n",
    "        out = img.crop((x, y, x+8, y+8))\n",
    "        img_draw.rectangle([ (x*CANVAS_SCALE, y*CANVAS_SCALE), ((x+8)*CANVAS_SCALE, (y+8)*CANVAS_SCALE) ], fill = None, outline = \"red\")\n",
    "        images.append(out) # )\n",
    "\n",
    "# Z= cv2.resize(F,(480,380),fx=0, fy=0, interpolation = cv2.INTER_NEAREST)\n",
    "\n",
    "box = Box([pil2wid(i, 100, 100) for i in images], layout= Layout(display='flex', flex_flow='row wrap',))\n",
    "\n",
    "\n",
    "display(img_canvas)\n",
    "display(box)"
   ]
  },
  {
   "cell_type": "code",
   "execution_count": null,
   "id": "cfd1fc0d-ad6d-4d9c-af90-6644c0580eb6",
   "metadata": {},
   "outputs": [],
   "source": [
    "def post_filter(): pass"
   ]
  },
  {
   "cell_type": "code",
   "execution_count": null,
   "id": "97ae058a-207b-43b3-ac0f-5a514c05e349",
   "metadata": {},
   "outputs": [],
   "source": [
    "box = Box([*[VBox([Label(f'Image {idx}'), pil2wid(i, 100, 100)]) for idx, i in enumerate(images)]\n",
    "], layout= Layout(display='flex', flex_flow='row wrap',))\n",
    "\n",
    "display(box)"
   ]
  },
  {
   "cell_type": "code",
   "execution_count": null,
   "id": "cf447b0e-683e-440c-9c52-8f38eba3a438",
   "metadata": {
    "tags": []
   },
   "outputs": [],
   "source": [
    "def images_to_C_var(images):\n",
    "    def img_to_C_string(img, idx): #  simple\n",
    "        formatted = np.vectorize(lambda x: str(x).rjust(3))(np.array(img)).tolist()\n",
    "        return f'// Image {idx}\\n' + pprint.pformat(formatted, indent=2).replace('[', '{').replace(']', '}').replace(\"'\",\"\")\n",
    "    \n",
    "    def img_to_C_string(img, idx): # 8 p line\n",
    "        formatted = np.vectorize(lambda x: str(x).rjust(3))(np.array(img)).tolist()\n",
    "        formatted = f'  {{  // Image {idx} \\n' + ', \\n'.join('    {' + ', '.join('{' + ', '.join(colors) + '}' for colors in line) + '}' for line in formatted) + '}'\n",
    "        return formatted\n",
    "        \n",
    "\n",
    "    SEP = ',\\n'\n",
    "    name = 'characters'\n",
    "    out = f'''\n",
    "    const char images8x8_{name}[{len(images)}][8][8][3] = {{\\n{\n",
    "        SEP.join(img_to_C_string(img, idx) for idx, img in enumerate(images))\n",
    "    }}};'''.strip()\n",
    "    assert Counter(out)['{'] == Counter(out)['}'], 'Your braces are wrong'\n",
    "    return out\n",
    "print(images_to_C_var(images)[:5000])"
   ]
  },
  {
   "cell_type": "code",
   "execution_count": null,
   "id": "7dc4603d-c621-47c8-9fa5-9af7730a83c4",
   "metadata": {},
   "outputs": [],
   "source": [
    "from pathlib import Path\n",
    "output_filename = Path(INPUT).with_suffix('.cpp').name.replace(' ', '_')\n",
    "assert output_filename.isascii() and output_filename.isprintable(), 'This filename is bad:' + output_filename\n",
    "output_path = Path(OUTPUT_DIR) / Path(output_filename)\n",
    "with open(output_path, 'wb') as f:\n",
    "    f.write(images_to_C_var(images).encode('ascii'))\n",
    "print(f'Wrote to {output_path} !')"
   ]
  },
  {
   "cell_type": "code",
   "execution_count": null,
   "id": "b72bbc93-5d96-48ac-897a-433f2f8bfa37",
   "metadata": {},
   "outputs": [],
   "source": []
  }
 ],
 "metadata": {
  "kernelspec": {
   "display_name": "Python 3 (ipykernel)",
   "language": "python",
   "name": "python3"
  },
  "language_info": {
   "codemirror_mode": {
    "name": "ipython",
    "version": 3
   },
   "file_extension": ".py",
   "mimetype": "text/x-python",
   "name": "python",
   "nbconvert_exporter": "python",
   "pygments_lexer": "ipython3",
   "version": "3.10.5"
  }
 },
 "nbformat": 4,
 "nbformat_minor": 5
}
